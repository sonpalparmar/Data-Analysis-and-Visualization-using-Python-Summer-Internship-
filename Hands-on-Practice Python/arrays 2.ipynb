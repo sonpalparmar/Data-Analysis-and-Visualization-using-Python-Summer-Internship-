{
 "cells": [
  {
   "cell_type": "code",
   "execution_count": 1,
   "id": "24745c63",
   "metadata": {},
   "outputs": [
    {
     "name": "stdout",
     "output_type": "stream",
     "text": [
      "[1, 2, 3, 4, 5, 6]\n"
     ]
    }
   ],
   "source": [
    "print([1,2,3]+[4,5,6])"
   ]
  },
  {
   "cell_type": "code",
   "execution_count": 2,
   "id": "321eba46",
   "metadata": {},
   "outputs": [
    {
     "name": "stdout",
     "output_type": "stream",
     "text": [
      "[1, 2, 3, 1, 2, 3, 1, 2, 3]\n"
     ]
    }
   ],
   "source": [
    "print([1,2,3]*3)"
   ]
  },
  {
   "cell_type": "code",
   "execution_count": 10,
   "id": "2e6f8edc",
   "metadata": {},
   "outputs": [
    {
     "name": "stdout",
     "output_type": "stream",
     "text": [
      "[1 2 3] \n",
      " [[1 2 3]\n",
      " [4 5 6]\n",
      " [7 8 9]]\n",
      "(3,) (3, 3)\n"
     ]
    }
   ],
   "source": [
    "import numpy as np\n",
    "#Creating array from list\n",
    "a1=np.array([1,2,3])       # 1 dimensional\n",
    "a2=np.array([[1,2,3],[4,5,6],[7,8,9]])  # 2 dimensional\n",
    "print(a1,\"\\n\",a2)\n",
    "print(a1.shape, a2.shape)\n",
    "#print([1,2,3])\n",
    "#Elements of array is seperated by space and elements of list seperated by comma"
   ]
  },
  {
   "cell_type": "code",
   "execution_count": 9,
   "id": "0e811aa8",
   "metadata": {},
   "outputs": [
    {
     "name": "stdout",
     "output_type": "stream",
     "text": [
      "[[[1 2 3]\n",
      "  [4 5 6]\n",
      "  [7 8 9]]\n",
      "\n",
      " [[1 2 3]\n",
      "  [4 5 6]\n",
      "  [7 8 9]]] (2, 3, 3)\n"
     ]
    }
   ],
   "source": [
    "a3=np.array([[[1,2,3],[4,5,6],[7,8,9]],\n",
    "            [[1,2,3],[4,5,6],[7,8,9]]])          #3 dimensional\n",
    "print(a3, a3.shape)\n"
   ]
  },
  {
   "cell_type": "code",
   "execution_count": 11,
   "id": "3aae3ad3",
   "metadata": {},
   "outputs": [
    {
     "name": "stdout",
     "output_type": "stream",
     "text": [
      "[3 6 9]\n"
     ]
    }
   ],
   "source": [
    "print(a1*3)"
   ]
  },
  {
   "cell_type": "code",
   "execution_count": 27,
   "id": "f140c12d",
   "metadata": {},
   "outputs": [
    {
     "name": "stdout",
     "output_type": "stream",
     "text": [
      "[ 0  1  2  3  4  5  6  7  8  9 10 11 12 13 14 15 16 17 18 19 20 21 22 23\n",
      " 24 25 26 27 28 29 30 31 32 33 34 35 36 37 38 39 40 41 42 43 44 45 46 47\n",
      " 48 49]\n",
      "(50,)\n",
      "[1. 1. 1. 1.]\n",
      "[0. 0. 0. 0. 0.]\n",
      "[23 38 73 32 92 85 31]\n",
      "[0.03302869 0.85851472 0.03819489 0.1469299  0.97686839]\n",
      "[ 0.33779849 -0.43288564  0.03030969 -0.27814745  0.58404801  0.70474856]\n"
     ]
    }
   ],
   "source": [
    "# Different methods to generate array\n",
    "# One dimensional method\n",
    "a4=np.arange(50)\n",
    "print(a4)\n",
    "a5=np.linspace(1,10)\n",
    "print(a5.shape)\n",
    "a6=np.ones(4)\n",
    "print(a6)\n",
    "a7=np.zeros(5)\n",
    "print(a7)\n",
    "a8=np.random.randint(1,100,7)\n",
    "print(a8)\n",
    "a9=np.random.rand(5)    #uniform distribution  \n",
    "print(a9)\n",
    "a10=np.random.randn(6)  #normal Distribution\n",
    "print(a10)"
   ]
  },
  {
   "cell_type": "code",
   "execution_count": 30,
   "id": "8bb453ce",
   "metadata": {},
   "outputs": [
    {
     "name": "stdout",
     "output_type": "stream",
     "text": [
      "[[1 1 1]\n",
      " [1 1 1]\n",
      " [1 1 1]]\n"
     ]
    }
   ],
   "source": [
    "a1_2=np.ones((3,3), dtype=np.int32)\n",
    "print(a1_2)"
   ]
  },
  {
   "cell_type": "code",
   "execution_count": 31,
   "id": "2d1d890f",
   "metadata": {},
   "outputs": [
    {
     "name": "stdout",
     "output_type": "stream",
     "text": [
      "[[0. 0. 0. 0.]\n",
      " [0. 0. 0. 0.]\n",
      " [0. 0. 0. 0.]\n",
      " [0. 0. 0. 0.]]\n"
     ]
    }
   ],
   "source": [
    "a0_2=np.zeros((4,4))\n",
    "print(a0_2)"
   ]
  },
  {
   "cell_type": "code",
   "execution_count": 32,
   "id": "d899491a",
   "metadata": {},
   "outputs": [
    {
     "name": "stdout",
     "output_type": "stream",
     "text": [
      "[[1. 0. 0. 0.]\n",
      " [0. 1. 0. 0.]\n",
      " [0. 0. 1. 0.]\n",
      " [0. 0. 0. 1.]]\n"
     ]
    }
   ],
   "source": [
    "ad_2=np.eye(4)\n",
    "print(ad_2)"
   ]
  },
  {
   "cell_type": "code",
   "execution_count": 34,
   "id": "63a72242",
   "metadata": {},
   "outputs": [
    {
     "name": "stdout",
     "output_type": "stream",
     "text": [
      "[[0.65596993 0.00856246 0.86291666 0.75846242 0.40867792]\n",
      " [0.39230618 0.95565384 0.62677467 0.65908546 0.30344618]\n",
      " [0.2054227  0.5413404  0.18596063 0.95098344 0.79038336]\n",
      " [0.46923383 0.35546838 0.65367638 0.74554263 0.33638618]]\n"
     ]
    }
   ],
   "source": [
    "aru_2=np.random.rand(4,5)\n",
    "print(aru_2)"
   ]
  },
  {
   "cell_type": "code",
   "execution_count": 35,
   "id": "e4eb46bf",
   "metadata": {},
   "outputs": [
    {
     "name": "stdout",
     "output_type": "stream",
     "text": [
      "[[ 0.05995058  0.99294024 -0.66478435 -0.02426814]\n",
      " [ 0.46231332  1.36238487  0.36980453 -1.60938437]\n",
      " [-1.29243356 -1.06729377 -0.40646398  0.16544086]\n",
      " [ 0.05145931 -0.80743713 -0.52561915 -1.38565105]\n",
      " [ 0.07718626  0.27700251 -0.84566655  2.24595107]]\n"
     ]
    }
   ],
   "source": [
    "arn_2=np.random.randn(5,4)\n",
    "print(arn_2)"
   ]
  },
  {
   "cell_type": "code",
   "execution_count": 36,
   "id": "158112cc",
   "metadata": {},
   "outputs": [
    {
     "name": "stdout",
     "output_type": "stream",
     "text": [
      "[[0.53380435 0.28501537 0.5931803  0.42420424]\n",
      " [0.72322805 0.06317395 0.79102904 0.64272   ]\n",
      " [0.67769382 0.89274027 0.56932971 0.30851399]]\n"
     ]
    }
   ],
   "source": [
    "arr=np.random.random((3,4))\n",
    "print(arr)"
   ]
  },
  {
   "cell_type": "code",
   "execution_count": 39,
   "id": "7625c578",
   "metadata": {},
   "outputs": [
    {
     "name": "stdout",
     "output_type": "stream",
     "text": [
      "2 float64 (3, 4)\n"
     ]
    }
   ],
   "source": [
    "print(arr.ndim, arr.dtype, arr.shape)"
   ]
  },
  {
   "cell_type": "code",
   "execution_count": 41,
   "id": "2280fb95",
   "metadata": {},
   "outputs": [
    {
     "name": "stdout",
     "output_type": "stream",
     "text": [
      "[[0.33779849 0.43288564 0.03030969]\n",
      " [0.27814745 0.58404801 0.70474856]]\n"
     ]
    }
   ],
   "source": [
    "ae_2=np.empty((2,3))\n",
    "print(ae_2)"
   ]
  },
  {
   "cell_type": "code",
   "execution_count": 42,
   "id": "8a4bb3d4",
   "metadata": {},
   "outputs": [
    {
     "data": {
      "text/plain": [
       "array([[0.65596993, 0.00856246, 0.86291666, 0.75846242, 0.40867792],\n",
       "       [0.39230618, 0.95565384, 0.62677467, 0.65908546, 0.30344618],\n",
       "       [0.2054227 , 0.5413404 , 0.18596063, 0.95098344, 0.79038336],\n",
       "       [0.46923383, 0.35546838, 0.65367638, 0.74554263, 0.33638618]])"
      ]
     },
     "execution_count": 42,
     "metadata": {},
     "output_type": "execute_result"
    }
   ],
   "source": [
    "aru_2"
   ]
  },
  {
   "cell_type": "code",
   "execution_count": 44,
   "id": "3bbcfef8",
   "metadata": {},
   "outputs": [
    {
     "name": "stdout",
     "output_type": "stream",
     "text": [
      "0.7903833594477048\n"
     ]
    }
   ],
   "source": [
    "print(aru_2[-2][-1])"
   ]
  },
  {
   "cell_type": "raw",
   "id": "826c9c78",
   "metadata": {},
   "source": [
    "aru_2[1][3]=0.5677777\n",
    "print(aru_2)"
   ]
  },
  {
   "cell_type": "code",
   "execution_count": 46,
   "id": "e9c6863e",
   "metadata": {},
   "outputs": [
    {
     "name": "stdout",
     "output_type": "stream",
     "text": [
      "0  row  0 column\n",
      "Enter the value23\n",
      "0  row  1 column\n",
      "Enter the value12\n",
      "1  row  0 column\n",
      "Enter the value23\n",
      "1  row  1 column\n",
      "Enter the value45\n",
      "2  row  0 column\n",
      "Enter the value65\n",
      "2  row  1 column\n",
      "Enter the value3\n",
      "[[23. 12.]\n",
      " [23. 45.]\n",
      " [65.  3.]]\n"
     ]
    }
   ],
   "source": [
    "# WAP to create a 2 dimensional array by taking input from user\n",
    "def create_array(rows=2,cols=2):\n",
    "    arr=np.empty((rows,cols))\n",
    "    for i in range(arr.shape[0]):\n",
    "        for j in range(arr.shape[1]):\n",
    "            print(i,' row ',j,'column')\n",
    "            arr[i][j]=int(input(\"Enter the value\"))\n",
    "    print(arr)\n",
    "create_array(3,2)"
   ]
  },
  {
   "cell_type": "code",
   "execution_count": 47,
   "id": "94495808",
   "metadata": {},
   "outputs": [
    {
     "name": "stdout",
     "output_type": "stream",
     "text": [
      "[[0.65596993 0.00856246 0.86291666 0.75846242 0.40867792]\n",
      " [0.39230618 0.95565384 0.62677467 0.5677777  0.30344618]\n",
      " [0.2054227  0.5413404  0.18596063 0.95098344 0.79038336]\n",
      " [0.46923383 0.35546838 0.65367638 0.74554263 0.33638618]]\n"
     ]
    }
   ],
   "source": [
    "print(aru_2)"
   ]
  },
  {
   "cell_type": "code",
   "execution_count": 48,
   "id": "ba1a2458",
   "metadata": {},
   "outputs": [
    {
     "data": {
      "text/plain": [
       "0.5677777"
      ]
     },
     "execution_count": 48,
     "metadata": {},
     "output_type": "execute_result"
    }
   ],
   "source": [
    "aru_2[1,3]"
   ]
  },
  {
   "cell_type": "code",
   "execution_count": 50,
   "id": "51d174bf",
   "metadata": {},
   "outputs": [
    {
     "data": {
      "text/plain": [
       "array([[0.62677467, 0.30344618],\n",
       "       [0.65367638, 0.33638618]])"
      ]
     },
     "execution_count": 50,
     "metadata": {},
     "output_type": "execute_result"
    }
   ],
   "source": [
    "aru_2[1:4:2, 2:5:2]"
   ]
  },
  {
   "cell_type": "code",
   "execution_count": 52,
   "id": "c31f99ec",
   "metadata": {},
   "outputs": [
    {
     "data": {
      "text/plain": [
       "array([[0.65596993, 0.00856246, 0.86291666, 0.75846242, 0.40867792],\n",
       "       [0.39230618, 0.95565384, 0.62677467, 0.5677777 , 0.30344618],\n",
       "       [0.2054227 , 0.5413404 , 0.18596063, 0.95098344, 0.79038336],\n",
       "       [0.46923383, 0.35546838, 0.65367638, 0.74554263, 0.33638618]])"
      ]
     },
     "execution_count": 52,
     "metadata": {},
     "output_type": "execute_result"
    }
   ],
   "source": [
    "aru_2"
   ]
  },
  {
   "cell_type": "code",
   "execution_count": 53,
   "id": "56098608",
   "metadata": {},
   "outputs": [
    {
     "name": "stdout",
     "output_type": "stream",
     "text": [
      "[[0.65596993 0.00856246 0.86291666 0.75846242 0.40867792]\n",
      " [0.39230618 0.95565384 0.         0.         0.30344618]\n",
      " [0.2054227  0.5413404  0.         0.         0.79038336]\n",
      " [0.46923383 0.35546838 0.65367638 0.74554263 0.33638618]]\n"
     ]
    }
   ],
   "source": [
    "aru_2[1:3,2:4]=0 #Broadcasting\n",
    "print(aru_2)"
   ]
  },
  {
   "cell_type": "code",
   "execution_count": 56,
   "id": "7b98f9c6",
   "metadata": {},
   "outputs": [
    {
     "name": "stdout",
     "output_type": "stream",
     "text": [
      "[[0.53380435 0.28501537 0.5931803  0.42420424]\n",
      " [0.72322805 0.06317395 0.79102904 0.64272   ]\n",
      " [0.67769382 0.89274027 0.56932971 0.30851399]] (3, 4)\n"
     ]
    }
   ],
   "source": [
    "print(arr, arr.shape)\n",
    "# reshape the total number of elements should be same"
   ]
  },
  {
   "cell_type": "code",
   "execution_count": 58,
   "id": "26cc7b29",
   "metadata": {},
   "outputs": [
    {
     "data": {
      "text/plain": [
       "array([[0.53380435, 0.28501537],\n",
       "       [0.5931803 , 0.42420424],\n",
       "       [0.72322805, 0.06317395],\n",
       "       [0.79102904, 0.64272   ],\n",
       "       [0.67769382, 0.89274027],\n",
       "       [0.56932971, 0.30851399]])"
      ]
     },
     "execution_count": 58,
     "metadata": {},
     "output_type": "execute_result"
    }
   ],
   "source": [
    "arr.reshape((6,2))"
   ]
  },
  {
   "cell_type": "code",
   "execution_count": 61,
   "id": "6c09e045",
   "metadata": {},
   "outputs": [
    {
     "name": "stdout",
     "output_type": "stream",
     "text": [
      "[[0.53380435 0.28501537 0.5931803  0.42420424]\n",
      " [0.72322805 0.06317395 0.79102904 0.64272   ]\n",
      " [0.67769382 0.89274027 0.56932971 0.30851399]]\n"
     ]
    },
    {
     "data": {
      "text/plain": [
       "array([[0.53380435, 0.28501537, 0.5931803 , 0.42420424],\n",
       "       [0.72322805, 0.06317395, 0.79102904, 0.64272   ],\n",
       "       [0.67769382, 0.89274027, 0.56932971, 0.30851399],\n",
       "       [0.53380435, 0.28501537, 0.5931803 , 0.42420424]])"
      ]
     },
     "execution_count": 61,
     "metadata": {},
     "output_type": "execute_result"
    }
   ],
   "source": [
    "#resize will change shape as well as number of elements\n",
    "print(arr)\n",
    "np.resize(arr,(4,4))"
   ]
  },
  {
   "cell_type": "code",
   "execution_count": 62,
   "id": "24478b6d",
   "metadata": {},
   "outputs": [
    {
     "data": {
      "text/plain": [
       "array([[0.53380435],\n",
       "       [0.28501537],\n",
       "       [0.5931803 ],\n",
       "       [0.42420424],\n",
       "       [0.72322805],\n",
       "       [0.06317395],\n",
       "       [0.79102904],\n",
       "       [0.64272   ],\n",
       "       [0.67769382],\n",
       "       [0.89274027],\n",
       "       [0.56932971],\n",
       "       [0.30851399]])"
      ]
     },
     "execution_count": 62,
     "metadata": {},
     "output_type": "execute_result"
    }
   ],
   "source": [
    "arr.reshape((-1,1))"
   ]
  },
  {
   "cell_type": "code",
   "execution_count": 63,
   "id": "f8649482",
   "metadata": {},
   "outputs": [
    {
     "name": "stdout",
     "output_type": "stream",
     "text": [
      "[0.53380435 0.28501537 0.5931803  0.42420424]\n",
      "[0.72322805 0.06317395 0.79102904 0.64272   ]\n",
      "[0.67769382 0.89274027 0.56932971 0.30851399]\n"
     ]
    }
   ],
   "source": [
    "for i in arr:\n",
    "    print(i)"
   ]
  },
  {
   "cell_type": "code",
   "execution_count": 22,
   "id": "fb3f3777",
   "metadata": {},
   "outputs": [
    {
     "name": "stdout",
     "output_type": "stream",
     "text": [
      "[[0 0]\n",
      " [0 0]\n",
      " [0 1]]\n"
     ]
    }
   ],
   "source": [
    "import numpy as np\n",
    "arr_r=np.array(((1,2),(3,4),(4,5)))\n",
    "arr_n=np.array(((4,),(5,),(6,)))\n",
    "arr_1=np.array([1,2])\n",
    "'''print(arr_r,\"\\n\",arr_n,\"\\n\",arr_1)\n",
    "# arithmetic operation\n",
    "print(arr_r+arr_n)\n",
    "print(arr_r+arr_1)\n",
    "print(arr_r-arr_n)\n",
    "print(arr_r*arr_1)\n",
    "print(arr_r//arr_1)\n",
    "print(arr_r/arr_1)'''\n",
    "print(arr_r%arr_1)"
   ]
  },
  {
   "cell_type": "code",
   "execution_count": 23,
   "id": "e42f7b17",
   "metadata": {},
   "outputs": [
    {
     "data": {
      "text/plain": [
       "True"
      ]
     },
     "execution_count": 23,
     "metadata": {},
     "output_type": "execute_result"
    }
   ],
   "source": [
    "(1,2)==(1,2)"
   ]
  },
  {
   "cell_type": "code",
   "execution_count": 28,
   "id": "c07eda98",
   "metadata": {},
   "outputs": [
    {
     "name": "stdout",
     "output_type": "stream",
     "text": [
      "[[1 2]\n",
      " [3 4]\n",
      " [4 5]] \n",
      " [[4]\n",
      " [5]\n",
      " [6]] \n",
      " [1 2]\n"
     ]
    },
    {
     "data": {
      "text/plain": [
       "array([[2, 4],\n",
       "       [4, 6],\n",
       "       [5, 7]])"
      ]
     },
     "execution_count": 28,
     "metadata": {},
     "output_type": "execute_result"
    }
   ],
   "source": [
    "#WAP in python which will take 3 arguments, first 2 arrguments are arrays and 3rd \n",
    "#argument is operation we want to perform on array. Check the broadcasting if \n",
    "#operation is feasible or not then apply the operation and return the result\n",
    "\n",
    "def operationonarrays(a1=np.array([1,1]),a2=np.array([1,1]),op='+'):\n",
    "    s_a1=a1.shape\n",
    "    s_a2=a2.shape\n",
    "    if s_a1==s_a2:\n",
    "        return a1+a2\n",
    "    elif len(s_a1)==len(s_a2) and s_a1[0]==s_a2[0]:\n",
    "        return a1+a2\n",
    "    elif len(s_a1)>len(s_a2) and s_a1[1]==s_a2[0]:\n",
    "        return a1+a2\n",
    "    elif len(s_a1)<len(s_a2) and s_a1[0]==s_a2[1]:\n",
    "        return a1+a2\n",
    "    else:\n",
    "        return \"OPeration is not valid\"\n",
    "print(arr_r,\"\\n\",arr_n,\"\\n\",arr_1)\n",
    "#operationonarrays(arr_r,arr_n)\n",
    "#operationonarrays(arr_r,arr_1)\n",
    "operationonarrays(arr_1,arr_r)      "
   ]
  },
  {
   "cell_type": "code",
   "execution_count": 29,
   "id": "e46421d4",
   "metadata": {},
   "outputs": [
    {
     "name": "stdout",
     "output_type": "stream",
     "text": [
      "(3, 2) (3, 1)\n"
     ]
    }
   ],
   "source": [
    "print(arr_r.shape, arr_n.shape)"
   ]
  },
  {
   "cell_type": "code",
   "execution_count": 34,
   "id": "393424d8",
   "metadata": {},
   "outputs": [
    {
     "name": "stdout",
     "output_type": "stream",
     "text": [
      "[[ 8  9]\n",
      " [18 21]\n",
      " [23 27]]\n"
     ]
    }
   ],
   "source": [
    "arr_2=np.array(((2,3),(3,3)))\n",
    "np.dot(arr_r,arr_2)\n",
    "print(arr_r@arr_2)"
   ]
  },
  {
   "cell_type": "code",
   "execution_count": 39,
   "id": "9e1d090a",
   "metadata": {},
   "outputs": [
    {
     "name": "stdout",
     "output_type": "stream",
     "text": [
      "[[1 2]\n",
      " [3 4]\n",
      " [4 5]]\n",
      "1\n",
      "[1 3 4]\n",
      "[1 2]\n",
      "5\n",
      "[2 4 5]\n",
      "[4 5]\n"
     ]
    }
   ],
   "source": [
    "print(arr_r)\n",
    "print(np.min(arr_r))\n",
    "print(np.min(arr_r,axis=1)) # row wise\n",
    "print(np.min(arr_r,axis=0))  # column wise\n",
    "print(np.max(arr_r))\n",
    "print(np.max(arr_r,axis=1)) # row wise\n",
    "print(np.max(arr_r,axis=0))  # column wise"
   ]
  },
  {
   "cell_type": "code",
   "execution_count": 43,
   "id": "458a9946",
   "metadata": {},
   "outputs": [
    {
     "name": "stdout",
     "output_type": "stream",
     "text": [
      "0 5\n",
      "[0 0] [0 0 0]\n"
     ]
    }
   ],
   "source": [
    "print(np.argmin(arr_r), np.argmax(arr_r))\n",
    "print(np.argmin(arr_r, axis=0), np.argmin(arr_r, axis=1))"
   ]
  },
  {
   "cell_type": "code",
   "execution_count": 78,
   "id": "9319e733",
   "metadata": {},
   "outputs": [
    {
     "name": "stdout",
     "output_type": "stream",
     "text": [
      "[[62 30 54 55 27]\n",
      " [64  9  1 19  7]\n",
      " [ 9 18 95 55 90]]\n"
     ]
    }
   ],
   "source": [
    "# WAP to generate an array of dimension 3,5. Generate array by taking \n",
    "#random integer values from the user, then try to sort the array\n",
    "\n",
    "a_int=np.zeros((3,5),dtype=np.int32)\n",
    "for i in range(a_int.shape[0]):\n",
    "    for j in range(a_int.shape[1]):\n",
    "        a_int[i,j]=np.random.randint(1,100)\n",
    "print(a_int)"
   ]
  },
  {
   "cell_type": "code",
   "execution_count": 79,
   "id": "97fcfe4a",
   "metadata": {},
   "outputs": [
    {
     "name": "stdout",
     "output_type": "stream",
     "text": [
      "[62 30 54 55 27 64  9  1 19  7  9 18 95 55 90] 7\n"
     ]
    }
   ],
   "source": [
    "a_int_r=a_int.reshape(-1,1)\n",
    "a_1=a_int_r[:,0]\n",
    "l1=[]\n",
    "print(a_1, np.argmin(a_1))\n",
    "for i in range(a_int.shape[0]):\n",
    "    for j in range(a_int.shape[1]):\n",
    "        #print(np.min(a_1))\n",
    "        l1.append(np.min(a_1))\n",
    "        a_1[np.argmin(a_1)]=999\n"
   ]
  },
  {
   "cell_type": "code",
   "execution_count": 80,
   "id": "e035d0cd",
   "metadata": {},
   "outputs": [
    {
     "name": "stdout",
     "output_type": "stream",
     "text": [
      "[1, 7, 9, 9, 18, 19, 27, 30, 54, 55, 55, 62, 64, 90, 95]\n"
     ]
    }
   ],
   "source": [
    "print(l1)"
   ]
  },
  {
   "cell_type": "code",
   "execution_count": 81,
   "id": "339af0e1",
   "metadata": {},
   "outputs": [
    {
     "data": {
      "text/plain": [
       "array([4995, 4995, 4995])"
      ]
     },
     "execution_count": 81,
     "metadata": {},
     "output_type": "execute_result"
    }
   ],
   "source": [
    "np.sum(a_int, axis=1)"
   ]
  },
  {
   "cell_type": "code",
   "execution_count": 82,
   "id": "d5c30d1a",
   "metadata": {},
   "outputs": [
    {
     "data": {
      "text/plain": [
       "array([999., 999., 999.])"
      ]
     },
     "execution_count": 82,
     "metadata": {},
     "output_type": "execute_result"
    }
   ],
   "source": [
    "np.mean(a_int,axis=1)"
   ]
  },
  {
   "cell_type": "code",
   "execution_count": 83,
   "id": "8bc4ce6c",
   "metadata": {},
   "outputs": [
    {
     "data": {
      "text/plain": [
       "array([999., 999., 999., 999., 999.])"
      ]
     },
     "execution_count": 83,
     "metadata": {},
     "output_type": "execute_result"
    }
   ],
   "source": [
    "np.median(a_int, axis=0)"
   ]
  },
  {
   "cell_type": "code",
   "execution_count": 84,
   "id": "f5fa8627",
   "metadata": {},
   "outputs": [
    {
     "data": {
      "text/plain": [
       "0.0"
      ]
     },
     "execution_count": 84,
     "metadata": {},
     "output_type": "execute_result"
    }
   ],
   "source": [
    "np.std(a_1)"
   ]
  },
  {
   "cell_type": "code",
   "execution_count": 85,
   "id": "7abba1bb",
   "metadata": {},
   "outputs": [
    {
     "data": {
      "text/plain": [
       "0.0"
      ]
     },
     "execution_count": 85,
     "metadata": {},
     "output_type": "execute_result"
    }
   ],
   "source": [
    "np.var(a_1)"
   ]
  },
  {
   "cell_type": "code",
   "execution_count": 86,
   "id": "bb4f72b9",
   "metadata": {},
   "outputs": [
    {
     "data": {
      "text/plain": [
       "array([[1.        , 1.41421356],\n",
       "       [1.73205081, 2.        ],\n",
       "       [2.        , 2.23606798]])"
      ]
     },
     "execution_count": 86,
     "metadata": {},
     "output_type": "execute_result"
    }
   ],
   "source": [
    "np.sqrt(arr_r)"
   ]
  },
  {
   "cell_type": "code",
   "execution_count": 87,
   "id": "18cb52f5",
   "metadata": {},
   "outputs": [
    {
     "data": {
      "text/plain": [
       "array([[  2.71828183,   7.3890561 ],\n",
       "       [ 20.08553692,  54.59815003],\n",
       "       [ 54.59815003, 148.4131591 ]])"
      ]
     },
     "execution_count": 87,
     "metadata": {},
     "output_type": "execute_result"
    }
   ],
   "source": [
    "np.exp(arr_r)"
   ]
  },
  {
   "cell_type": "code",
   "execution_count": 88,
   "id": "83a51fff",
   "metadata": {},
   "outputs": [
    {
     "data": {
      "text/plain": [
       "array([[0.        , 0.69314718],\n",
       "       [1.09861229, 1.38629436],\n",
       "       [1.38629436, 1.60943791]])"
      ]
     },
     "execution_count": 88,
     "metadata": {},
     "output_type": "execute_result"
    }
   ],
   "source": [
    "np.log(arr_r)"
   ]
  },
  {
   "cell_type": "code",
   "execution_count": 4,
   "id": "c50840f7",
   "metadata": {},
   "outputs": [
    {
     "name": "stdout",
     "output_type": "stream",
     "text": [
      "[[1 2 3]\n",
      " [4 5 6]]\n",
      "[1 2 3 4 5 6]\n"
     ]
    }
   ],
   "source": [
    "import numpy as np\n",
    "a1=np.array([1,2,3])\n",
    "a2=np.array([4,5,6])\n",
    "print(np.vstack([a1,a2]))\n",
    "print(np.hstack([a1,a2]))"
   ]
  },
  {
   "cell_type": "code",
   "execution_count": 6,
   "id": "bf7fb35c",
   "metadata": {},
   "outputs": [
    {
     "name": "stdout",
     "output_type": "stream",
     "text": [
      "[[1 2 4 5]\n",
      " [3 4 6 7]]\n",
      "[[1 2]\n",
      " [3 4]\n",
      " [4 5]\n",
      " [6 7]]\n"
     ]
    }
   ],
   "source": [
    "a2_1=np.array([[1,2],[3,4]])\n",
    "a2_2=np.array([[4,5],[6,7]])\n",
    "print(np.hstack([a2_1,a2_2]))\n",
    "print(np.vstack([a2_1, a2_2]))"
   ]
  },
  {
   "cell_type": "code",
   "execution_count": 14,
   "id": "b16a805d",
   "metadata": {},
   "outputs": [
    {
     "name": "stdout",
     "output_type": "stream",
     "text": [
      "[2 3 4 5 6]\n",
      "[0 1 2 3 4]\n",
      "[5 6]\n",
      "[0 1 2 3 4 5 6]\n"
     ]
    }
   ],
   "source": [
    "#WAP in python to find out the commin elements in 2 different array\n",
    "a3=np.arange(2,7)\n",
    "print(a3)\n",
    "a4=np.arange(0,5)\n",
    "print(a4)\n",
    "#inter,a3_indices,a4_indices=np.intersect1d(a3,a4, return_indices=True)\n",
    "#print(inter,a3_indices,a4_indices)\n",
    "print(np.setdiff1d(a3,a4))\n",
    "# Elements which are present in 1st array but not in second\n",
    "print(np.union1d(a3,a4))"
   ]
  },
  {
   "cell_type": "code",
   "execution_count": 28,
   "id": "bc0e22d6",
   "metadata": {},
   "outputs": [
    {
     "name": "stdout",
     "output_type": "stream",
     "text": [
      "[[ 3  4 56 89]\n",
      " [23 56  1 45]]\n"
     ]
    }
   ],
   "source": [
    "# W A P in python to sort your array\n",
    "a6=np.array([34,23,1,36,78,45,67,89,99,3,57,1,3,23])\n",
    "sr,index,inverse=np.unique(a6, return_index=True,return_inverse=True)\n",
    "\"\"\"print(sr,\"\\n\", inverse)\n",
    "for i in inverse:\n",
    "    print(sr[i],end=\" \")\"\"\"\n",
    "a7=np.array([[4,3,89,56],[56,23,45,1]])\n",
    "print(np.unique(a7,axis=1))"
   ]
  },
  {
   "cell_type": "code",
   "execution_count": 29,
   "id": "4765a4ba",
   "metadata": {},
   "outputs": [
    {
     "name": "stdout",
     "output_type": "stream",
     "text": [
      "[[44 52 81 56 40]\n",
      " [88 74 55 91 50]\n",
      " [97 66 80 72 31]]\n"
     ]
    }
   ],
   "source": [
    "#conditional Selection\n",
    "a_int=np.zeros((3,5),dtype=np.int32)\n",
    "for i in range(a_int.shape[0]):\n",
    "    for j in range(a_int.shape[1]):\n",
    "        a_int[i,j]=np.random.randint(1,100)\n",
    "print(a_int)"
   ]
  },
  {
   "cell_type": "code",
   "execution_count": 37,
   "id": "5a6e0b1f",
   "metadata": {},
   "outputs": [
    {
     "data": {
      "text/plain": [
       "array([44, 52, 81, 56, 40, 88, 74, 55, 91, 50, 97, 66, 80, 72, 31])"
      ]
     },
     "execution_count": 37,
     "metadata": {},
     "output_type": "execute_result"
    }
   ],
   "source": [
    "a_int[(a_int>50) | (a_int<70)]"
   ]
  },
  {
   "cell_type": "code",
   "execution_count": 40,
   "id": "94b00e31",
   "metadata": {},
   "outputs": [
    {
     "data": {
      "text/plain": [
       "array([[False,  True,  True,  True, False],\n",
       "       [ True,  True,  True,  True, False],\n",
       "       [ True,  True,  True,  True, False]])"
      ]
     },
     "execution_count": 40,
     "metadata": {},
     "output_type": "execute_result"
    }
   ],
   "source": [
    "(a_int>50)"
   ]
  },
  {
   "cell_type": "code",
   "execution_count": null,
   "id": "cf09d798",
   "metadata": {},
   "outputs": [],
   "source": []
  }
 ],
 "metadata": {
  "kernelspec": {
   "display_name": "Python 3",
   "language": "python",
   "name": "python3"
  },
  "language_info": {
   "codemirror_mode": {
    "name": "ipython",
    "version": 3
   },
   "file_extension": ".py",
   "mimetype": "text/x-python",
   "name": "python",
   "nbconvert_exporter": "python",
   "pygments_lexer": "ipython3",
   "version": "3.8.8"
  }
 },
 "nbformat": 4,
 "nbformat_minor": 5
}
