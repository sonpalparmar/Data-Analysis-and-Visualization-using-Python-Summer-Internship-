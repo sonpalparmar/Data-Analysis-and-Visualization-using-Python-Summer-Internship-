{
 "cells": [
  {
   "cell_type": "code",
   "execution_count": 1,
   "id": "24745c63",
   "metadata": {},
   "outputs": [
    {
     "name": "stdout",
     "output_type": "stream",
     "text": [
      "[1, 2, 3, 4, 5, 6]\n"
     ]
    }
   ],
   "source": [
    "print([1,2,3]+[4,5,6])"
   ]
  },
  {
   "cell_type": "code",
   "execution_count": 2,
   "id": "eb1fdbe3",
   "metadata": {},
   "outputs": [
    {
     "name": "stdout",
     "output_type": "stream",
     "text": [
      "[1, 2, 3, 1, 2, 3, 1, 2, 3]\n"
     ]
    }
   ],
   "source": [
    "print([1,2,3]*3)"
   ]
  },
  {
   "cell_type": "code",
   "execution_count": 10,
   "id": "f1946504",
   "metadata": {},
   "outputs": [
    {
     "name": "stdout",
     "output_type": "stream",
     "text": [
      "[1 2 3] \n",
      " [[1 2 3]\n",
      " [4 5 6]\n",
      " [7 8 9]]\n",
      "(3,) (3, 3)\n"
     ]
    }
   ],
   "source": [
    "import numpy as np\n",
    "#Creating array from list\n",
    "a1=np.array([1,2,3])       # 1 dimensional\n",
    "a2=np.array([[1,2,3],[4,5,6],[7,8,9]])  # 2 dimensional\n",
    "print(a1,\"\\n\",a2)\n",
    "print(a1.shape, a2.shape)\n",
    "#print([1,2,3])\n",
    "#Elements of array is seperated by space and elements of list seperated by comma"
   ]
  },
  {
   "cell_type": "code",
   "execution_count": 9,
   "id": "91728866",
   "metadata": {},
   "outputs": [
    {
     "name": "stdout",
     "output_type": "stream",
     "text": [
      "[[[1 2 3]\n",
      "  [4 5 6]\n",
      "  [7 8 9]]\n",
      "\n",
      " [[1 2 3]\n",
      "  [4 5 6]\n",
      "  [7 8 9]]] (2, 3, 3)\n"
     ]
    }
   ],
   "source": [
    "a3=np.array([[[1,2,3],[4,5,6],[7,8,9]],\n",
    "            [[1,2,3],[4,5,6],[7,8,9]]])          #3 dimensional\n",
    "print(a3, a3.shape)\n"
   ]
  },
  {
   "cell_type": "code",
   "execution_count": 11,
   "id": "fb3017a4",
   "metadata": {},
   "outputs": [
    {
     "name": "stdout",
     "output_type": "stream",
     "text": [
      "[3 6 9]\n"
     ]
    }
   ],
   "source": [
    "print(a1*3)"
   ]
  },
  {
   "cell_type": "code",
   "execution_count": 27,
   "id": "a263da9b",
   "metadata": {},
   "outputs": [
    {
     "name": "stdout",
     "output_type": "stream",
     "text": [
      "[ 0  1  2  3  4  5  6  7  8  9 10 11 12 13 14 15 16 17 18 19 20 21 22 23\n",
      " 24 25 26 27 28 29 30 31 32 33 34 35 36 37 38 39 40 41 42 43 44 45 46 47\n",
      " 48 49]\n",
      "(50,)\n",
      "[1. 1. 1. 1.]\n",
      "[0. 0. 0. 0. 0.]\n",
      "[23 38 73 32 92 85 31]\n",
      "[0.03302869 0.85851472 0.03819489 0.1469299  0.97686839]\n",
      "[ 0.33779849 -0.43288564  0.03030969 -0.27814745  0.58404801  0.70474856]\n"
     ]
    }
   ],
   "source": [
    "# Different methods to generate array\n",
    "# One dimensional method\n",
    "a4=np.arange(50)\n",
    "print(a4)\n",
    "a5=np.linspace(1,10)\n",
    "print(a5.shape)\n",
    "a6=np.ones(4)\n",
    "print(a6)\n",
    "a7=np.zeros(5)\n",
    "print(a7)\n",
    "a8=np.random.randint(1,100,7)\n",
    "print(a8)\n",
    "a9=np.random.rand(5)    #uniform distribution  \n",
    "print(a9)\n",
    "a10=np.random.randn(6)  #normal Distribution\n",
    "print(a10)"
   ]
  },
  {
   "cell_type": "code",
   "execution_count": 30,
   "id": "45037076",
   "metadata": {},
   "outputs": [
    {
     "name": "stdout",
     "output_type": "stream",
     "text": [
      "[[1 1 1]\n",
      " [1 1 1]\n",
      " [1 1 1]]\n"
     ]
    }
   ],
   "source": [
    "a1_2=np.ones((3,3), dtype=np.int32)\n",
    "print(a1_2)"
   ]
  },
  {
   "cell_type": "code",
   "execution_count": 31,
   "id": "9667bf23",
   "metadata": {},
   "outputs": [
    {
     "name": "stdout",
     "output_type": "stream",
     "text": [
      "[[0. 0. 0. 0.]\n",
      " [0. 0. 0. 0.]\n",
      " [0. 0. 0. 0.]\n",
      " [0. 0. 0. 0.]]\n"
     ]
    }
   ],
   "source": [
    "a0_2=np.zeros((4,4))\n",
    "print(a0_2)"
   ]
  },
  {
   "cell_type": "code",
   "execution_count": 32,
   "id": "3675be2a",
   "metadata": {},
   "outputs": [
    {
     "name": "stdout",
     "output_type": "stream",
     "text": [
      "[[1. 0. 0. 0.]\n",
      " [0. 1. 0. 0.]\n",
      " [0. 0. 1. 0.]\n",
      " [0. 0. 0. 1.]]\n"
     ]
    }
   ],
   "source": [
    "ad_2=np.eye(4)\n",
    "print(ad_2)"
   ]
  },
  {
   "cell_type": "code",
   "execution_count": 34,
   "id": "8c24b07e",
   "metadata": {},
   "outputs": [
    {
     "name": "stdout",
     "output_type": "stream",
     "text": [
      "[[0.65596993 0.00856246 0.86291666 0.75846242 0.40867792]\n",
      " [0.39230618 0.95565384 0.62677467 0.65908546 0.30344618]\n",
      " [0.2054227  0.5413404  0.18596063 0.95098344 0.79038336]\n",
      " [0.46923383 0.35546838 0.65367638 0.74554263 0.33638618]]\n"
     ]
    }
   ],
   "source": [
    "aru_2=np.random.rand(4,5)\n",
    "print(aru_2)"
   ]
  },
  {
   "cell_type": "code",
   "execution_count": 35,
   "id": "cf29f914",
   "metadata": {},
   "outputs": [
    {
     "name": "stdout",
     "output_type": "stream",
     "text": [
      "[[ 0.05995058  0.99294024 -0.66478435 -0.02426814]\n",
      " [ 0.46231332  1.36238487  0.36980453 -1.60938437]\n",
      " [-1.29243356 -1.06729377 -0.40646398  0.16544086]\n",
      " [ 0.05145931 -0.80743713 -0.52561915 -1.38565105]\n",
      " [ 0.07718626  0.27700251 -0.84566655  2.24595107]]\n"
     ]
    }
   ],
   "source": [
    "arn_2=np.random.randn(5,4)\n",
    "print(arn_2)"
   ]
  },
  {
   "cell_type": "code",
   "execution_count": 36,
   "id": "70da0aa6",
   "metadata": {},
   "outputs": [
    {
     "name": "stdout",
     "output_type": "stream",
     "text": [
      "[[0.53380435 0.28501537 0.5931803  0.42420424]\n",
      " [0.72322805 0.06317395 0.79102904 0.64272   ]\n",
      " [0.67769382 0.89274027 0.56932971 0.30851399]]\n"
     ]
    }
   ],
   "source": [
    "arr=np.random.random((3,4))\n",
    "print(arr)"
   ]
  },
  {
   "cell_type": "code",
   "execution_count": 39,
   "id": "2387edee",
   "metadata": {},
   "outputs": [
    {
     "name": "stdout",
     "output_type": "stream",
     "text": [
      "2 float64 (3, 4)\n"
     ]
    }
   ],
   "source": [
    "print(arr.ndim, arr.dtype, arr.shape)"
   ]
  },
  {
   "cell_type": "code",
   "execution_count": 41,
   "id": "49bd8e19",
   "metadata": {},
   "outputs": [
    {
     "name": "stdout",
     "output_type": "stream",
     "text": [
      "[[0.33779849 0.43288564 0.03030969]\n",
      " [0.27814745 0.58404801 0.70474856]]\n"
     ]
    }
   ],
   "source": [
    "ae_2=np.empty((2,3))\n",
    "print(ae_2)"
   ]
  },
  {
   "cell_type": "code",
   "execution_count": 42,
   "id": "d15eb390",
   "metadata": {},
   "outputs": [
    {
     "data": {
      "text/plain": [
       "array([[0.65596993, 0.00856246, 0.86291666, 0.75846242, 0.40867792],\n",
       "       [0.39230618, 0.95565384, 0.62677467, 0.65908546, 0.30344618],\n",
       "       [0.2054227 , 0.5413404 , 0.18596063, 0.95098344, 0.79038336],\n",
       "       [0.46923383, 0.35546838, 0.65367638, 0.74554263, 0.33638618]])"
      ]
     },
     "execution_count": 42,
     "metadata": {},
     "output_type": "execute_result"
    }
   ],
   "source": [
    "aru_2"
   ]
  },
  {
   "cell_type": "code",
   "execution_count": 44,
   "id": "e39559e9",
   "metadata": {},
   "outputs": [
    {
     "name": "stdout",
     "output_type": "stream",
     "text": [
      "0.7903833594477048\n"
     ]
    }
   ],
   "source": [
    "print(aru_2[-2][-1])"
   ]
  },
  {
   "cell_type": "raw",
   "id": "60653f84",
   "metadata": {},
   "source": [
    "aru_2[1][3]=0.5677777\n",
    "print(aru_2)"
   ]
  },
  {
   "cell_type": "code",
   "execution_count": 46,
   "id": "fb8b4cbb",
   "metadata": {},
   "outputs": [
    {
     "name": "stdout",
     "output_type": "stream",
     "text": [
      "0  row  0 column\n",
      "Enter the value23\n",
      "0  row  1 column\n",
      "Enter the value12\n",
      "1  row  0 column\n",
      "Enter the value23\n",
      "1  row  1 column\n",
      "Enter the value45\n",
      "2  row  0 column\n",
      "Enter the value65\n",
      "2  row  1 column\n",
      "Enter the value3\n",
      "[[23. 12.]\n",
      " [23. 45.]\n",
      " [65.  3.]]\n"
     ]
    }
   ],
   "source": [
    "# WAP to create a 2 dimensional array by taking input from user\n",
    "def create_array(rows=2,cols=2):\n",
    "    arr=np.empty((rows,cols))\n",
    "    for i in range(arr.shape[0]):\n",
    "        for j in range(arr.shape[1]):\n",
    "            print(i,' row ',j,'column')\n",
    "            arr[i][j]=int(input(\"Enter the value\"))\n",
    "    print(arr)\n",
    "create_array(3,2)"
   ]
  },
  {
   "cell_type": "code",
   "execution_count": 47,
   "id": "34927c63",
   "metadata": {},
   "outputs": [
    {
     "name": "stdout",
     "output_type": "stream",
     "text": [
      "[[0.65596993 0.00856246 0.86291666 0.75846242 0.40867792]\n",
      " [0.39230618 0.95565384 0.62677467 0.5677777  0.30344618]\n",
      " [0.2054227  0.5413404  0.18596063 0.95098344 0.79038336]\n",
      " [0.46923383 0.35546838 0.65367638 0.74554263 0.33638618]]\n"
     ]
    }
   ],
   "source": [
    "print(aru_2)"
   ]
  },
  {
   "cell_type": "code",
   "execution_count": 48,
   "id": "521fd8d2",
   "metadata": {},
   "outputs": [
    {
     "data": {
      "text/plain": [
       "0.5677777"
      ]
     },
     "execution_count": 48,
     "metadata": {},
     "output_type": "execute_result"
    }
   ],
   "source": [
    "aru_2[1,3]"
   ]
  },
  {
   "cell_type": "code",
   "execution_count": 50,
   "id": "f3091f23",
   "metadata": {},
   "outputs": [
    {
     "data": {
      "text/plain": [
       "array([[0.62677467, 0.30344618],\n",
       "       [0.65367638, 0.33638618]])"
      ]
     },
     "execution_count": 50,
     "metadata": {},
     "output_type": "execute_result"
    }
   ],
   "source": [
    "aru_2[1:4:2, 2:5:2]"
   ]
  },
  {
   "cell_type": "code",
   "execution_count": 52,
   "id": "1a52e7de",
   "metadata": {},
   "outputs": [
    {
     "data": {
      "text/plain": [
       "array([[0.65596993, 0.00856246, 0.86291666, 0.75846242, 0.40867792],\n",
       "       [0.39230618, 0.95565384, 0.62677467, 0.5677777 , 0.30344618],\n",
       "       [0.2054227 , 0.5413404 , 0.18596063, 0.95098344, 0.79038336],\n",
       "       [0.46923383, 0.35546838, 0.65367638, 0.74554263, 0.33638618]])"
      ]
     },
     "execution_count": 52,
     "metadata": {},
     "output_type": "execute_result"
    }
   ],
   "source": [
    "aru_2"
   ]
  },
  {
   "cell_type": "code",
   "execution_count": 53,
   "id": "bd62e6fc",
   "metadata": {},
   "outputs": [
    {
     "name": "stdout",
     "output_type": "stream",
     "text": [
      "[[0.65596993 0.00856246 0.86291666 0.75846242 0.40867792]\n",
      " [0.39230618 0.95565384 0.         0.         0.30344618]\n",
      " [0.2054227  0.5413404  0.         0.         0.79038336]\n",
      " [0.46923383 0.35546838 0.65367638 0.74554263 0.33638618]]\n"
     ]
    }
   ],
   "source": [
    "aru_2[1:3,2:4]=0 #Broadcasting\n",
    "print(aru_2)"
   ]
  },
  {
   "cell_type": "code",
   "execution_count": null,
   "id": "f93fe216",
   "metadata": {},
   "outputs": [],
   "source": []
  }
 ],
 "metadata": {
  "kernelspec": {
   "display_name": "Python 3",
   "language": "python",
   "name": "python3"
  },
  "language_info": {
   "codemirror_mode": {
    "name": "ipython",
    "version": 3
   },
   "file_extension": ".py",
   "mimetype": "text/x-python",
   "name": "python",
   "nbconvert_exporter": "python",
   "pygments_lexer": "ipython3",
   "version": "3.8.8"
  }
 },
 "nbformat": 4,
 "nbformat_minor": 5
}
